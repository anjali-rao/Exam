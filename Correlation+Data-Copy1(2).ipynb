{
 "cells": [
  {
   "cell_type": "markdown",
   "metadata": {},
   "source": [
    "## Aim :\n",
    "To analyse and visualise correlations of the generated clusters using different distance parameters.\n",
    "\n",
    "To find the most accurate method of generating clusters within a shorter time period.\n"
   ]
  },
  {
   "cell_type": "markdown",
   "metadata": {},
   "source": [
    "Inorder to form clusters, we need to find 2 centroids in the vector space which will be used to split it into 2 parts.\n",
    "The process of calculating the distance can be done by 2 methods:\n",
    "\n",
    " - Euclidean distance : This distance is calculate for the vectors in the vector space, by using the Euclidean distance formula.\n",
    " - Cosine distance : Similar to Eucldean distance, but uses Cosine distance formula.\n",
    " "
   ]
  },
  {
   "cell_type": "markdown",
   "metadata": {},
   "source": [
    "Also 2 different types of trees while forming clusters.\n",
    " \n",
    " - Tree distance : The total no. of hops between the two leaf nodes, here the distance between the two adjacent node is always 1.\n",
    " - Weighted tree : The weight of hops b/w each node is the distance between the centroids in the cluster by 2."
   ]
  },
  {
   "cell_type": "markdown",
   "metadata": {},
   "source": [
    "### Example for Tree and Weighted tree"
   ]
  },
  {
   "cell_type": "code",
   "execution_count": 10,
   "metadata": {},
   "outputs": [
    {
     "data": {
      "image/png": "[encoded data removed]",
      "text/plain": [
       "<IPython.core.display.Image object>"
      ]
     },
     "execution_count": 10,
     "metadata": {},
     "output_type": "execute_result"
    }
   ],
   "source": [
    "from IPython.display import Image\n",
    "Image(filename='tree(1).png') \n"
   ]
  },
  {
   "cell_type": "markdown",
   "metadata": {},
   "source": [
    "### Correlation for 100 clusters generated using random centroids:\n",
    "\n",
    "- In the given vector space of 64 words, we choose 2 random centroids, based on those centroids we are generating clusters.\n",
    "\n",
    "- The below charts describe the relation between  \n",
    "    - correlation b/w the euclidean and tree distance\n",
    "    - correlation b/w euclidean and weighted tree distance\n",
    "    - correlation b/w cosine and tree distance\n",
    "    - correlation b/w cosine and weighted tree distance\n"
   ]
  },
  {
   "cell_type": "code",
   "execution_count": 2,
   "metadata": {
    "collapsed": true
   },
   "outputs": [],
   "source": [
    "import pandas as pd\n",
    "import numpy as np\n",
    "import matplotlib.pyplot as plt\n",
    "import plotly\n",
    "import plotly.plotly as py\n",
    "plotly.tools.set_credentials_file(username='AnjaliRao', api_key='dDrA7YHd67Dyg0rf5fW1')\n",
    "import plotly.graph_objs as go\n"
   ]
  },
  {
   "cell_type": "code",
   "execution_count": 3,
   "metadata": {
    "collapsed": true
   },
   "outputs": [],
   "source": [
    "def lineplot(filename ,c1,c2,c3,c4) :\n",
    "    \n",
    "    data = pd.read_csv(filename)\n",
    "\n",
    "    column1 = data.iloc[:,c1]\n",
    "    column2 = data.iloc[:,c2]\n",
    "    column3 = data.iloc[:,c3]\n",
    "    column4 = data.iloc[:,c4]\n",
    "\n",
    "\n",
    "    trace1 = go.Scatter(\n",
    "            x = range(1,100),\n",
    "            y = column1 ,\n",
    "            name = 'correlation_between_euclidean_tree' \n",
    "        )\n",
    "    trace2 = go.Scatter(\n",
    "            x = range(1,100),\n",
    "            y = column2 ,\n",
    "            name = 'correlation_between_euclidean_weighted_tree'\n",
    "        )\n",
    "    trace3 = go.Scatter(\n",
    "            x = range(1,100),\n",
    "            y = column3 ,\n",
    "            name = 'correlation_between_cosine_tree'\n",
    "        )\n",
    "    trace4 = go.Scatter(\n",
    "            x = range(1,100),\n",
    "            y = column4 ,\n",
    "            name = 'correlation_between_cosine_weighted_tree'\n",
    "        )\n",
    "    data = [trace1,trace2,trace3,trace4]\n",
    "    layout = go.Layout(\n",
    "    title='Comparison',\n",
    "    xaxis=dict(\n",
    "        title='No of trees',\n",
    "       \n",
    "    ),\n",
    "    \n",
    "   \n",
    ")\n",
    "    fig = go.Figure(data = data , layout = layout )\n",
    "    return fig\n",
    "    "
   ]
  },
  {
   "cell_type": "markdown",
   "metadata": {},
   "source": [
    "### Clustering by choosing 2 random centroids:\n",
    "\n",
    "Here we are choosing 2 random centroids for clustering which are independant of the distance between them."
   ]
  },
  {
   "cell_type": "code",
   "execution_count": 4,
   "metadata": {},
   "outputs": [
    {
     "data": {
      "text/html": [
       "<iframe id=\"igraph\" scrolling=\"no\" style=\"border:none;\" seamless=\"seamless\" src=\"https://plot.ly/~AnjaliRao/204.embed\" height=\"525px\" width=\"100%\"></iframe>"
      ],
      "text/plain": [
       "<plotly.tools.PlotlyDisplay object>"
      ]
     },
     "execution_count": 4,
     "metadata": {},
     "output_type": "execute_result"
    }
   ],
   "source": [
    "fig = lineplot('new_cosine_euclidean_correlation_stats - new_random_cosine_euclidean_correlation_stats.csv',3,4,1,2)\n",
    "py.iplot(fig)"
   ]
  },
  {
   "cell_type": "markdown",
   "metadata": {},
   "source": [
    "- It is seen that after the number of trees tend to 50, the correlations reach saturation.\n",
    "- The Euclidean weighted tree has the maximum accuracy compared to the others."
   ]
  },
  {
   "cell_type": "markdown",
   "metadata": {},
   "source": [
    "### Clustering by choosing \"n\" sampling centroids\n",
    "\n",
    "Inorder to reach saturation earlier, the centroids are chosen by \"n\" sampling. \n",
    "Sampling is done by choosing 5% of the vector space (7 words out of 64), to form multiple centroid pairs. The centroid pair having the maximum distance between them is used to split the vector space into clusters."
   ]
  },
  {
   "cell_type": "code",
   "execution_count": 5,
   "metadata": {},
   "outputs": [
    {
     "data": {
      "text/html": [
       "<iframe id=\"igraph\" scrolling=\"no\" style=\"border:none;\" seamless=\"seamless\" src=\"https://plot.ly/~AnjaliRao/206.embed\" height=\"525px\" width=\"100%\"></iframe>"
      ],
      "text/plain": [
       "<plotly.tools.PlotlyDisplay object>"
      ]
     },
     "execution_count": 5,
     "metadata": {},
     "output_type": "execute_result"
    }
   ],
   "source": [
    "fig = lineplot('n_sampling_cosine_euclidean_corelation_stats - new_n_sampling_cluster_cosine_euclidean_stats.csv',3,4,1,2)\n",
    "py.iplot(fig)"
   ]
  },
  {
   "cell_type": "markdown",
   "metadata": {},
   "source": [
    "In this method, when the number of trees are more than 20, the correlations are in a constant range. Hence the accuracy has improved by this method."
   ]
  },
  {
   "cell_type": "markdown",
   "metadata": {},
   "source": [
    "### Nearest words correlation with random clustering\n",
    "\n",
    "##### Nearest words list :\n",
    "\n",
    "imatinib/gleevec , \n",
    "egfr/(erbb-3) ,\n",
    "diabetes/mellitus ,\n"
   ]
  },
  {
   "cell_type": "markdown",
   "metadata": {},
   "source": [
    "#### Random clustering"
   ]
  },
  {
   "cell_type": "code",
   "execution_count": 6,
   "metadata": {},
   "outputs": [
    {
     "data": {
      "text/html": [
       "<iframe id=\"igraph\" scrolling=\"no\" style=\"border:none;\" seamless=\"seamless\" src=\"https://plot.ly/~AnjaliRao/208.embed\" height=\"525px\" width=\"100%\"></iframe>"
      ],
      "text/plain": [
       "<plotly.tools.PlotlyDisplay object>"
      ]
     },
     "execution_count": 6,
     "metadata": {},
     "output_type": "execute_result"
    }
   ],
   "source": [
    "fig = lineplot('random_clusters_same_words_cosine_euclidean_correlation_satat - new_same_words_random_clustering_cosine_euclidean_correlation_stats.csv',1,2,3,4)\n",
    "py.iplot(fig)\n"
   ]
  },
  {
   "cell_type": "markdown",
   "metadata": {},
   "source": [
    "####  Random \"n\" sampling :"
   ]
  },
  {
   "cell_type": "code",
   "execution_count": 7,
   "metadata": {},
   "outputs": [
    {
     "data": {
      "text/html": [
       "<iframe id=\"igraph\" scrolling=\"no\" style=\"border:none;\" seamless=\"seamless\" src=\"https://plot.ly/~AnjaliRao/210.embed\" height=\"525px\" width=\"100%\"></iframe>"
      ],
      "text/plain": [
       "<plotly.tools.PlotlyDisplay object>"
      ]
     },
     "execution_count": 7,
     "metadata": {},
     "output_type": "execute_result"
    }
   ],
   "source": [
    "fig = lineplot('same_words_n_sampling_clustering_cosine_euclidean_corelation_stats - n_sampling_clustering_cosine_euclidean_correlation_stats.csv',1,2,3,4)\n",
    "py.iplot(fig)"
   ]
  },
  {
   "cell_type": "markdown",
   "metadata": {},
   "source": [
    "### Correlation for Opposite words:\n",
    "\n",
    "imatinib/egfr\n",
    "google/gleevec\n",
    "andhra/tnf\n",
    "potato/facebook\n",
    "mango/aids\n",
    "adderall/nepal\n",
    "\n",
    "#### Using random centroids:"
   ]
  },
  {
   "cell_type": "code",
   "execution_count": 8,
   "metadata": {},
   "outputs": [
    {
     "data": {
      "text/html": [
       "<iframe id=\"igraph\" scrolling=\"no\" style=\"border:none;\" seamless=\"seamless\" src=\"https://plot.ly/~AnjaliRao/212.embed\" height=\"525px\" width=\"100%\"></iframe>"
      ],
      "text/plain": [
       "<plotly.tools.PlotlyDisplay object>"
      ]
     },
     "execution_count": 8,
     "metadata": {},
     "output_type": "execute_result"
    }
   ],
   "source": [
    "fig = lineplot('new_random_sampling_cosine_euclidean_correlation_stats - new_random_clustering_opposite_words_cosine_euclidean_correlation_stats.csv',1,2,3,4)\n",
    "py.iplot(fig)\n"
   ]
  },
  {
   "cell_type": "markdown",
   "metadata": {},
   "source": [
    "#### Using random \"n\" sampling centroids:"
   ]
  },
  {
   "cell_type": "code",
   "execution_count": 9,
   "metadata": {},
   "outputs": [
    {
     "data": {
      "text/html": [
       "<iframe id=\"igraph\" scrolling=\"no\" style=\"border:none;\" seamless=\"seamless\" src=\"https://plot.ly/~AnjaliRao/214.embed\" height=\"525px\" width=\"100%\"></iframe>"
      ],
      "text/plain": [
       "<plotly.tools.PlotlyDisplay object>"
      ]
     },
     "execution_count": 9,
     "metadata": {},
     "output_type": "execute_result"
    }
   ],
   "source": [
    "fig = lineplot('n_random_sample_clustering_opposite_words_cosine_euclidean_corelation_stats - n_random_sample_clustering_opposite_words_cosine_euclidean_correlation_stats.csv',1,2,3,4)\n",
    "py.iplot(fig)\n"
   ]
  }
 ],
 "metadata": {
  "kernelspec": {
   "display_name": "Python 2",
   "language": "python",
   "name": "python2"
  },
  "language_info": {
   "codemirror_mode": {
    "name": "ipython",
    "version": 2
   },
   "file_extension": ".py",
   "mimetype": "text/x-python",
   "name": "python",
   "nbconvert_exporter": "python",
   "pygments_lexer": "ipython2",
   "version": "2.7.14"
  }
 },
 "nbformat": 4,
 "nbformat_minor": 2
}
